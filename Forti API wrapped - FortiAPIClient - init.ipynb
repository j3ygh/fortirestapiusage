{
 "cells": [
  {
   "cell_type": "code",
   "execution_count": null,
   "metadata": {},
   "outputs": [],
   "source": [
    "import json\n",
    "import requests\n",
    "from urllib.parse import urlencode"
   ]
  },
  {
   "cell_type": "code",
   "execution_count": null,
   "metadata": {},
   "outputs": [],
   "source": [
    "class FortiAPIClient():\n",
    "    \n",
    "    def __init__(self, host, session=None, is_https=True):\n",
    "        self._host = host\n",
    "        self._session = session or requests.session()\n",
    "        self._is_https = is_https\n",
    "\n",
    "    @property\n",
    "    def host(self):\n",
    "        return self._host\n",
    "        \n",
    "    @property\n",
    "    def session(self):\n",
    "        return self._session\n",
    "        \n",
    "    @property\n",
    "    def is_https(self):\n",
    "        return self._is_https\n",
    "        \n",
    "    @property\n",
    "    def url_root(self):\n",
    "        url_root = f'https://{self._host}' if self._is_https else f'http://{self._host}'\n",
    "        return url_root\n",
    "        \n",
    "    def login(self, username, password, path='/logincheck'):\n",
    "        url = self.url_root + path\n",
    "        data = {\n",
    "            'username': username,\n",
    "            'secretkey': password,\n",
    "        }\n",
    "        encoded_data = urlencode(data)\n",
    "        response = self._session.post(url=url, data=encoded_data)\n",
    "        return response\n",
    "    \n",
    "    def logout(self, path='/logout'):\n",
    "        url = self.url_root + path\n",
    "        response = self._session.post(url=url)\n",
    "        return response\n",
    "    \n",
    "    def get(self, path):\n",
    "        url = self.url_root + path\n",
    "        response = self._session.get(url=url)\n",
    "        return response\n",
    "    \n",
    "    def post(self, path, data):\n",
    "        url = self.url_root + path\n",
    "        headers = {\n",
    "            'X-CSRFTOKEN': self._session.cookies['ccsrftoken'][1:-1]\n",
    "        }\n",
    "        response = self._session.post(\n",
    "            url=url,\n",
    "            data=data,\n",
    "            headers=headers\n",
    "        )\n",
    "        return response"
   ]
  },
  {
   "cell_type": "code",
   "execution_count": null,
   "metadata": {},
   "outputs": [],
   "source": [
    "# Usage\n",
    "client = FortiAPIClient('10.210.201.5', is_https=False)\n",
    "client.login(username='admin', password='forti666')\n",
    "response = client.get('/api/v2/cmdb/firewall/address')\n",
    "print(response.text)"
   ]
  },
  {
   "cell_type": "code",
   "execution_count": null,
   "metadata": {
    "scrolled": true
   },
   "outputs": [],
   "source": [
    "# Request - get (format=name|subnet)\n",
    "url = 'http://10.210.201.5/api/v2/cmdb/firewall/address?format=name|subnet'\n",
    "response = session.get(url=url)\n",
    "print(response.content)"
   ]
  },
  {
   "cell_type": "code",
   "execution_count": null,
   "metadata": {
    "scrolled": true
   },
   "outputs": [],
   "source": [
    "# Request - get (action=default)\n",
    "url = 'http://10.210.201.5/api/v2/cmdb/firewall/address?action=default'\n",
    "response = session.get(url=url)\n",
    "print(response.text)"
   ]
  },
  {
   "cell_type": "code",
   "execution_count": null,
   "metadata": {},
   "outputs": [],
   "source": [
    "# Request - put\n",
    "mkey = 'address jimmy lin 10.210.201.168/32'\n",
    "url = 'http://10.210.201.5/api/v2/cmdb/firewall/address/' + urllib.parse.quote(mkey, safe='')\n",
    "data = {\n",
    "    'name': 'address__jimmy_lin__10.210.201.168/32',\n",
    "    'type': 'ipmask',\n",
    "    'subnet': '10.210.201.168 255.255.255.255',\n",
    "}\n",
    "headers = {\n",
    "    'X-CSRFTOKEN': session.cookies['ccsrftoken'][1:-1]\n",
    "}\n",
    "response = session.put(url=url, data=json.dumps(data), headers=headers)\n",
    "print(response.text)"
   ]
  },
  {
   "cell_type": "code",
   "execution_count": null,
   "metadata": {
    "scrolled": true
   },
   "outputs": [],
   "source": [
    "# Request - delete\n",
    "mkey = 'address jimmy lin 10.210.201.168/32'\n",
    "url = 'http://10.210.201.5/api/v2/cmdb/firewall/address/' + urllib.parse.quote(mkey, safe='')\n",
    "headers = {\n",
    "    'X-CSRFTOKEN': session.cookies['ccsrftoken'][1:-1]\n",
    "}\n",
    "response = session.delete(url=url, headers=headers)\n",
    "print(response.text)"
   ]
  },
  {
   "cell_type": "code",
   "execution_count": null,
   "metadata": {},
   "outputs": [],
   "source": []
  }
 ],
 "metadata": {
  "kernelspec": {
   "display_name": "Python 3",
   "language": "python",
   "name": "python3"
  },
  "language_info": {
   "codemirror_mode": {
    "name": "ipython",
    "version": 3
   },
   "file_extension": ".py",
   "mimetype": "text/x-python",
   "name": "python",
   "nbconvert_exporter": "python",
   "pygments_lexer": "ipython3",
   "version": "3.8.2"
  }
 },
 "nbformat": 4,
 "nbformat_minor": 4
}
