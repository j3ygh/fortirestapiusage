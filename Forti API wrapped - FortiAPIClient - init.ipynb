{
 "cells": [
  {
   "cell_type": "code",
   "execution_count": 1,
   "metadata": {},
   "outputs": [],
   "source": [
    "import json\n",
    "import requests\n",
    "from urllib.parse import urlencode, quote"
   ]
  },
  {
   "cell_type": "code",
   "execution_count": 2,
   "metadata": {},
   "outputs": [],
   "source": [
    "class FortiAPIClient():\n",
    "    \n",
    "    def __init__(self, host, session=None, is_https=True, timeout=30):\n",
    "        self._host = host\n",
    "        self._session = session or requests.session()\n",
    "        self._is_https = is_https\n",
    "        self.timeout = timeout\n",
    "\n",
    "    @property\n",
    "    def host(self):\n",
    "        return self._host\n",
    "        \n",
    "    @property\n",
    "    def session(self):\n",
    "        return self._session\n",
    "        \n",
    "    @property\n",
    "    def is_https(self):\n",
    "        return self._is_https\n",
    "        \n",
    "    @property\n",
    "    def url_root(self):\n",
    "        url_root = f'https://{self._host}' if self._is_https else f'http://{self._host}'\n",
    "        return url_root\n",
    "        \n",
    "    def login(self, username, password, path='/logincheck'):\n",
    "        url = self.url_root + path\n",
    "        data = {\n",
    "            'username': username,\n",
    "            'secretkey': password,\n",
    "        }\n",
    "        encoded_data = urlencode(data)\n",
    "        response = self._session.post(url=url, data=encoded_data)\n",
    "        return response\n",
    "    \n",
    "    def logout(self, path='/logout'):\n",
    "        url = self.url_root + path\n",
    "        response = self._session.post(url=url)\n",
    "        return response\n",
    "    \n",
    "    def get(self, path, params={}):\n",
    "        url = self.url_root + path\n",
    "        response = self._session.get(\n",
    "            url=url,\n",
    "            params=params,\n",
    "            timeout=self.timeout,\n",
    "        )\n",
    "        return response\n",
    "    \n",
    "    def post(self, path, data={}, json=''):\n",
    "        url = self.url_root + path\n",
    "        headers = {\n",
    "            'X-CSRFTOKEN': self._session.cookies['ccsrftoken'][1:-1],\n",
    "        }\n",
    "        response = self._session.post(\n",
    "            url=url,\n",
    "            headers=headers,\n",
    "            data=data,\n",
    "            json=json,\n",
    "            timeout=self.timeout,\n",
    "        )\n",
    "        return response\n",
    "    \n",
    "    def put(self, path, data={}, json=''):\n",
    "        url = self.url_root + path\n",
    "        headers = {\n",
    "            'X-CSRFTOKEN': self._session.cookies['ccsrftoken'][1:-1],\n",
    "        }\n",
    "        response = self._session.put(\n",
    "            url=url,\n",
    "            headers=headers,\n",
    "            data=data,\n",
    "            json=json,\n",
    "            timeout=self.timeout,\n",
    "        )\n",
    "        return response\n",
    "    \n",
    "    def delete(self, path):\n",
    "        url = self.url_root + path\n",
    "        headers = {\n",
    "            'X-CSRFTOKEN': self._session.cookies['ccsrftoken'][1:-1],\n",
    "        }\n",
    "        response = self._session.delete(\n",
    "            url=url,\n",
    "            headers=headers,\n",
    "            timeout=self.timeout,\n",
    "        )\n",
    "        return response"
   ]
  },
  {
   "cell_type": "code",
   "execution_count": 3,
   "metadata": {},
   "outputs": [
    {
     "data": {
      "text/plain": [
       "<Response [200]>"
      ]
     },
     "execution_count": 3,
     "metadata": {},
     "output_type": "execute_result"
    }
   ],
   "source": [
    "# Usage\n",
    "# Login\n",
    "client = FortiAPIClient('10.210.201.5', is_https=False, timeout=30)\n",
    "client.login(username='admin', password='forti666')"
   ]
  },
  {
   "cell_type": "code",
   "execution_count": 4,
   "metadata": {
    "scrolled": true
   },
   "outputs": [
    {
     "name": "stdout",
     "output_type": "stream",
     "text": [
      "{\n",
      "  \"http_method\":\"GET\",\n",
      "  \"revision\":\"697635a340a7185f07bb117aec459a03\",\n",
      "  \"results\":[\n",
      "    {\n",
      "      \"name\":\"FABRIC_DEVICE\",\n",
      "      \"q_origin_key\":\"FABRIC_DEVICE\",\n",
      "      \"subnet\":\"0.0.0.0 0.0.0.0\"\n",
      "    },\n",
      "    {\n",
      "      \"name\":\"FIREWALL_AUTH_PORTAL_ADDRESS\",\n",
      "      \"q_origin_key\":\"FIREWALL_AUTH_PORTAL_ADDRESS\",\n",
      "      \"subnet\":\"0.0.0.0 0.0.0.0\"\n",
      "    },\n",
      "    {\n",
      "      \"name\":\"SSLVPN_TUNNEL_ADDR1\",\n",
      "      \"q_origin_key\":\"SSLVPN_TUNNEL_ADDR1\"\n",
      "    },\n",
      "    {\n",
      "      \"name\":\"address__10.210.201.168\\/32\",\n",
      "      \"q_origin_key\":\"address__10.210.201.168\\/32\",\n",
      "      \"subnet\":\"10.210.201.168 255.255.255.255\"\n",
      "    },\n",
      "    {\n",
      "      \"name\":\"all\",\n",
      "      \"q_origin_key\":\"all\",\n",
      "      \"subnet\":\"0.0.0.0 0.0.0.0\"\n",
      "    },\n",
      "    {\n",
      "      \"name\":\"gmail.com\",\n",
      "      \"q_origin_key\":\"gmail.com\"\n",
      "    },\n",
      "    {\n",
      "      \"name\":\"login.microsoft.com\",\n",
      "      \"q_origin_key\":\"login.microsoft.com\"\n",
      "    },\n",
      "    {\n",
      "      \"name\":\"login.microsoftonline.com\",\n",
      "      \"q_origin_key\":\"login.microsoftonline.com\"\n",
      "    },\n",
      "    {\n",
      "      \"name\":\"login.windows.net\",\n",
      "      \"q_origin_key\":\"login.windows.net\"\n",
      "    },\n",
      "    {\n",
      "      \"name\":\"none\",\n",
      "      \"q_origin_key\":\"none\",\n",
      "      \"subnet\":\"0.0.0.0 255.255.255.255\"\n",
      "    },\n",
      "    {\n",
      "      \"name\":\"wildcard.dropbox.com\",\n",
      "      \"q_origin_key\":\"wildcard.dropbox.com\"\n",
      "    },\n",
      "    {\n",
      "      \"name\":\"wildcard.google.com\",\n",
      "      \"q_origin_key\":\"wildcard.google.com\"\n",
      "    }\n",
      "  ],\n",
      "  \"vdom\":\"root\",\n",
      "  \"path\":\"firewall\",\n",
      "  \"name\":\"address\",\n",
      "  \"status\":\"success\",\n",
      "  \"http_status\":200,\n",
      "  \"serial\":\"FGVMEVBH2GTGR773\",\n",
      "  \"version\":\"v6.4.2\",\n",
      "  \"build\":1723\n",
      "}\n"
     ]
    }
   ],
   "source": [
    "# Get\n",
    "response = client.get(\n",
    "    path='/api/v2/cmdb/firewall/address',\n",
    "    params={'format': 'name|subnet'}\n",
    ")\n",
    "print(response.text)"
   ]
  },
  {
   "cell_type": "code",
   "execution_count": 5,
   "metadata": {
    "scrolled": true
   },
   "outputs": [
    {
     "data": {
      "text/plain": [
       "{'http_method': 'GET',\n",
       " 'revision': '697635a340a7185f07bb117aec459a03',\n",
       " 'results': [{'name': 'FABRIC_DEVICE',\n",
       "   'q_origin_key': 'FABRIC_DEVICE',\n",
       "   'subnet': '0.0.0.0 0.0.0.0'},\n",
       "  {'name': 'FIREWALL_AUTH_PORTAL_ADDRESS',\n",
       "   'q_origin_key': 'FIREWALL_AUTH_PORTAL_ADDRESS',\n",
       "   'subnet': '0.0.0.0 0.0.0.0'},\n",
       "  {'name': 'SSLVPN_TUNNEL_ADDR1', 'q_origin_key': 'SSLVPN_TUNNEL_ADDR1'},\n",
       "  {'name': 'address__10.210.201.168/32',\n",
       "   'q_origin_key': 'address__10.210.201.168/32',\n",
       "   'subnet': '10.210.201.168 255.255.255.255'},\n",
       "  {'name': 'all', 'q_origin_key': 'all', 'subnet': '0.0.0.0 0.0.0.0'},\n",
       "  {'name': 'gmail.com', 'q_origin_key': 'gmail.com'},\n",
       "  {'name': 'login.microsoft.com', 'q_origin_key': 'login.microsoft.com'},\n",
       "  {'name': 'login.microsoftonline.com',\n",
       "   'q_origin_key': 'login.microsoftonline.com'},\n",
       "  {'name': 'login.windows.net', 'q_origin_key': 'login.windows.net'},\n",
       "  {'name': 'none',\n",
       "   'q_origin_key': 'none',\n",
       "   'subnet': '0.0.0.0 255.255.255.255'},\n",
       "  {'name': 'wildcard.dropbox.com', 'q_origin_key': 'wildcard.dropbox.com'},\n",
       "  {'name': 'wildcard.google.com', 'q_origin_key': 'wildcard.google.com'}],\n",
       " 'vdom': 'root',\n",
       " 'path': 'firewall',\n",
       " 'name': 'address',\n",
       " 'status': 'success',\n",
       " 'http_status': 200,\n",
       " 'serial': 'FGVMEVBH2GTGR773',\n",
       " 'version': 'v6.4.2',\n",
       " 'build': 1723}"
      ]
     },
     "execution_count": 5,
     "metadata": {},
     "output_type": "execute_result"
    }
   ],
   "source": [
    "# Read & write\n",
    "response.json()"
   ]
  },
  {
   "cell_type": "code",
   "execution_count": 6,
   "metadata": {},
   "outputs": [
    {
     "name": "stdout",
     "output_type": "stream",
     "text": [
      "{\n",
      "  \"http_method\":\"POST\",\n",
      "  \"revision\":\"37f26214418c317f3a12fe13cae2afba\",\n",
      "  \"revision_changed\":true,\n",
      "  \"old_revision\":\"697635a340a7185f07bb117aec459a03\",\n",
      "  \"mkey\":\"address 10.210.201.168\\/32\",\n",
      "  \"status\":\"success\",\n",
      "  \"http_status\":200,\n",
      "  \"vdom\":\"root\",\n",
      "  \"path\":\"firewall\",\n",
      "  \"name\":\"address\",\n",
      "  \"serial\":\"FGVMEVBH2GTGR773\",\n",
      "  \"version\":\"v6.4.2\",\n",
      "  \"build\":1723\n",
      "}\n"
     ]
    }
   ],
   "source": [
    "# Post\n",
    "response = client.post(\n",
    "    path='/api/v2/cmdb/firewall/address',\n",
    "    json={\n",
    "        'name': 'address 10.210.201.168/32',\n",
    "        'type': 'ipmask',\n",
    "        'subnet': '10.210.201.168 255.255.255.255',\n",
    "    }\n",
    ")\n",
    "print(response.text)"
   ]
  },
  {
   "cell_type": "code",
   "execution_count": 12,
   "metadata": {
    "scrolled": true
   },
   "outputs": [
    {
     "name": "stdout",
     "output_type": "stream",
     "text": [
      "{'http_method': 'PUT', 'revision': '44b1cae150376bcd770dc70409aecae8', 'revision_changed': False, 'status': 'error', 'http_status': 404, 'vdom': 'root', 'path': 'firewall', 'name': 'address', 'mkey': 'address 10.210.201.168/32', 'serial': 'FGVMEVBH2GTGR773', 'version': 'v6.4.2', 'build': 1723}\n"
     ]
    }
   ],
   "source": [
    "# Put\n",
    "response = client.put(\n",
    "    path='/api/v2/cmdb/firewall/address' + '/' + quote('address 10.210.201.168/32', safe=''),\n",
    "    json={\n",
    "        'name': 'address__10.210.201.168/32',\n",
    "    }\n",
    ")\n",
    "print(response.json())"
   ]
  },
  {
   "cell_type": "code",
   "execution_count": 11,
   "metadata": {},
   "outputs": [
    {
     "name": "stdout",
     "output_type": "stream",
     "text": [
      "{\n",
      "  \"http_method\":\"DELETE\",\n",
      "  \"revision\":\"44b1cae150376bcd770dc70409aecae8\",\n",
      "  \"revision_changed\":false,\n",
      "  \"status\":\"error\",\n",
      "  \"http_status\":404,\n",
      "  \"vdom\":\"root\",\n",
      "  \"path\":\"firewall\",\n",
      "  \"name\":\"address\",\n",
      "  \"mkey\":\"address 10.210.201.168\\/32\",\n",
      "  \"serial\":\"FGVMEVBH2GTGR773\",\n",
      "  \"version\":\"v6.4.2\",\n",
      "  \"build\":1723\n",
      "}\n"
     ]
    }
   ],
   "source": [
    "# Delete\n",
    "response = client.delete(\n",
    "    path='/api/v2/cmdb/firewall/address' + '/' + quote('address 10.210.201.168/32', safe=''),\n",
    ")\n",
    "print(response.text)"
   ]
  },
  {
   "cell_type": "code",
   "execution_count": null,
   "metadata": {},
   "outputs": [],
   "source": []
  }
 ],
 "metadata": {
  "kernelspec": {
   "display_name": "Python 3",
   "language": "python",
   "name": "python3"
  },
  "language_info": {
   "codemirror_mode": {
    "name": "ipython",
    "version": 3
   },
   "file_extension": ".py",
   "mimetype": "text/x-python",
   "name": "python",
   "nbconvert_exporter": "python",
   "pygments_lexer": "ipython3",
   "version": "3.8.2"
  }
 },
 "nbformat": 4,
 "nbformat_minor": 4
}
