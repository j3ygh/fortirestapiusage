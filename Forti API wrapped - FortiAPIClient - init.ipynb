{
 "cells": [
  {
   "cell_type": "code",
   "execution_count": 1,
   "metadata": {},
   "outputs": [],
   "source": [
    "import requests\n",
    "import urllib\n",
    "import json"
   ]
  },
  {
   "cell_type": "code",
   "execution_count": 9,
   "metadata": {},
   "outputs": [],
   "source": [
    "class FortiAPIClient():\n",
    "    \n",
    "    def __init__(self, host, session=None, is_https=False):\n",
    "        self._session = session or requests.session()\n",
    "        self._is_https = is_https\n",
    "        self._host = host\n",
    "        \n",
    "    def get_url(self, path):\n",
    "        if self._is_https:\n",
    "            prefix = f'https://{self._host}'\n",
    "        else:\n",
    "            prefix = f'http://{self._host}'\n",
    "        url = f'{prefix}/{path}'\n",
    "        return url\n",
    "        \n",
    "    def login(self, username, password):\n",
    "        url = self.get_url('logincheck')\n",
    "        username = username\n",
    "        password = password\n",
    "        data = f'username={urllib.parse.quote(username)}&secretkey={urllib.parse.quote(password)}'\n",
    "        response = self._session.post(url=url, data=data)\n",
    "        return response"
   ]
  },
  {
   "cell_type": "code",
   "execution_count": 10,
   "metadata": {},
   "outputs": [],
   "source": [
    "fac = FortiAPIClient('10.210.201.5')"
   ]
  },
  {
   "cell_type": "code",
   "execution_count": 11,
   "metadata": {},
   "outputs": [
    {
     "data": {
      "text/plain": [
       "<Response [200]>"
      ]
     },
     "execution_count": 11,
     "metadata": {},
     "output_type": "execute_result"
    }
   ],
   "source": [
    "fac.login(username='admin', password='forti666')"
   ]
  },
  {
   "cell_type": "code",
   "execution_count": null,
   "metadata": {},
   "outputs": [],
   "source": [
    "# To be wrapped\n",
    "# To be wrapped\n",
    "# To be wrapped\n",
    "# To be wrapped"
   ]
  },
  {
   "cell_type": "code",
   "execution_count": null,
   "metadata": {},
   "outputs": [],
   "source": [
    "# Login\n",
    "session = requests.session()\n",
    "url = 'http://10.210.201.5/logincheck'\n",
    "username = 'admin'\n",
    "password = 'forti666'\n",
    "data = f'username={urllib.parse.quote(username)}&secretkey={urllib.parse.quote(password)}'\n",
    "response = session.post(url=url, data=data)"
   ]
  },
  {
   "cell_type": "code",
   "execution_count": null,
   "metadata": {},
   "outputs": [],
   "source": [
    "# Login with token (to be fixed)\n",
    "# https://kb.fortinet.com/kb/documentLink.do?externalID=FD45595\n",
    "# https://github.com/fortinet-solutions-cse/fortiosapi/blob/f3ac6561de5588c600a7ade8ff6c742c81b8dfcf/fortiosapi/fortiosapi.py#L231\n",
    "session = requests.session()\n",
    "access_token = '675QrhHwst0fts4gbfhQGrHjwfrH63'\n",
    "url = f'http://10.210.201.5/api/v2/cmdb/firewall/address'\n",
    "headers = {'Authorization': 'Bearer ' + access_token}\n",
    "session.headers.update(headers)\n",
    "response = session.get(url=url)"
   ]
  },
  {
   "cell_type": "code",
   "execution_count": null,
   "metadata": {
    "scrolled": true
   },
   "outputs": [],
   "source": [
    "# Request - get (format=name|subnet)\n",
    "url = 'http://10.210.201.5/api/v2/cmdb/firewall/address?format=name|subnet'\n",
    "response = session.get(url=url)\n",
    "print(response.text)"
   ]
  },
  {
   "cell_type": "code",
   "execution_count": null,
   "metadata": {
    "scrolled": true
   },
   "outputs": [],
   "source": [
    "# Request - get (action=default)\n",
    "url = 'http://10.210.201.5/api/v2/cmdb/firewall/address?action=default'\n",
    "response = session.get(url=url)\n",
    "print(response.text)"
   ]
  },
  {
   "cell_type": "code",
   "execution_count": null,
   "metadata": {},
   "outputs": [],
   "source": [
    "# Cast data as a dict to read/use it.\n",
    "data = json.loads(response.text)"
   ]
  },
  {
   "cell_type": "code",
   "execution_count": null,
   "metadata": {
    "scrolled": true
   },
   "outputs": [],
   "source": [
    "# Request - post\n",
    "url = 'http://10.210.201.5/api/v2/cmdb/firewall/address'\n",
    "data = {\n",
    "    'name': 'address jimmy lin 10.210.201.168/32',\n",
    "    'type': 'ipmask',\n",
    "    'subnet': '10.210.201.168 255.255.255.255',\n",
    "}\n",
    "headers = {\n",
    "    'X-CSRFTOKEN': session.cookies['ccsrftoken'][1:-1]\n",
    "}\n",
    "response = session.post(url=url, data=json.dumps(data), headers=headers)\n",
    "print(response.text)"
   ]
  },
  {
   "cell_type": "code",
   "execution_count": null,
   "metadata": {},
   "outputs": [],
   "source": [
    "# Request - put\n",
    "mkey = 'address jimmy lin 10.210.201.168/32'\n",
    "url = 'http://10.210.201.5/api/v2/cmdb/firewall/address/' + urllib.parse.quote(mkey, safe='')\n",
    "data = {\n",
    "    'name': 'address__jimmy_lin__10.210.201.168/32',\n",
    "    'type': 'ipmask',\n",
    "    'subnet': '10.210.201.168 255.255.255.255',\n",
    "}\n",
    "headers = {\n",
    "    'X-CSRFTOKEN': session.cookies['ccsrftoken'][1:-1]\n",
    "}\n",
    "response = session.put(url=url, data=json.dumps(data), headers=headers)\n",
    "print(response.text)"
   ]
  },
  {
   "cell_type": "code",
   "execution_count": null,
   "metadata": {
    "scrolled": true
   },
   "outputs": [],
   "source": [
    "# Request - delete\n",
    "mkey = 'address jimmy lin 10.210.201.168/32'\n",
    "url = 'http://10.210.201.5/api/v2/cmdb/firewall/address/' + urllib.parse.quote(mkey, safe='')\n",
    "headers = {\n",
    "    'X-CSRFTOKEN': session.cookies['ccsrftoken'][1:-1]\n",
    "}\n",
    "response = session.delete(url=url, headers=headers)\n",
    "print(response.text)"
   ]
  },
  {
   "cell_type": "code",
   "execution_count": null,
   "metadata": {},
   "outputs": [],
   "source": [
    "# Logout\n",
    "url = 'http://10.210.201.5/logout'\n",
    "session.post(url=url)"
   ]
  }
 ],
 "metadata": {
  "kernelspec": {
   "display_name": "Python 3",
   "language": "python",
   "name": "python3"
  },
  "language_info": {
   "codemirror_mode": {
    "name": "ipython",
    "version": 3
   },
   "file_extension": ".py",
   "mimetype": "text/x-python",
   "name": "python",
   "nbconvert_exporter": "python",
   "pygments_lexer": "ipython3",
   "version": "3.8.2"
  }
 },
 "nbformat": 4,
 "nbformat_minor": 4
}
