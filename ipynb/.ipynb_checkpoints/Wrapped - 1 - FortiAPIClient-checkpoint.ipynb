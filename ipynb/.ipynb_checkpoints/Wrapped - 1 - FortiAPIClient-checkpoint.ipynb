{
 "cells": [
  {
   "cell_type": "code",
   "execution_count": null,
   "metadata": {},
   "outputs": [],
   "source": [
    "import json\n",
    "import requests\n",
    "from urllib.parse import urlencode, quote"
   ]
  },
  {
   "cell_type": "code",
   "execution_count": null,
   "metadata": {},
   "outputs": [],
   "source": [
    "import requests\n",
    "from urllib.parse import urlencode\n",
    "\n",
    "\n",
    "class FortiAPIClient():\n",
    "\n",
    "    def __init__(self, host, session=None, protocol='http', timeout=12):\n",
    "        self._host = host\n",
    "        self._session = session or requests.session()\n",
    "        self._protocol = protocol\n",
    "        self._timeout = timeout\n",
    "\n",
    "    def __repr__(self):\n",
    "        return f'{self.__class__.__name__}({self._host.__repr__()})'\n",
    "\n",
    "    def __enter__(self):\n",
    "        return self\n",
    "\n",
    "    def __exit__(self, exception_type, exception_value, traceback):\n",
    "        self.close()\n",
    "\n",
    "    @property\n",
    "    def host(self):\n",
    "        return self._host\n",
    "\n",
    "    @property\n",
    "    def session(self):\n",
    "        return self._session\n",
    "\n",
    "    @property\n",
    "    def protocol(self):\n",
    "        return self._protocol\n",
    "\n",
    "    @property\n",
    "    def timeout(self):\n",
    "        return self._timeout\n",
    "\n",
    "    @property\n",
    "    def url_root(self):\n",
    "        url_root = f'{self._protocol}://{self._host}'\n",
    "        return url_root\n",
    "\n",
    "    def login(self, username, password, path='/logincheck', ajax=1):\n",
    "        \"\"\"\n",
    "        ajax: Format the response for easier parsing. Enable using 1.\n",
    "        \"\"\"\n",
    "        url = self.url_root + path\n",
    "        data = {\n",
    "            'username': username,\n",
    "            'secretkey': password,\n",
    "            'ajax': ajax,\n",
    "        }\n",
    "        encoded_data = urlencode(data)\n",
    "        response = self._session.post(\n",
    "            url=url,\n",
    "            data=encoded_data,\n",
    "            timeout=self._timeout\n",
    "        )\n",
    "        return response\n",
    "\n",
    "    def get(self, path, params={}):\n",
    "        url = self.url_root + path\n",
    "        response = self._session.get(\n",
    "            url=url,\n",
    "            params=params,\n",
    "            timeout=self.timeout,\n",
    "        )\n",
    "        return response\n",
    "\n",
    "    def post(self, path, data={}, json=''):\n",
    "        url = self.url_root + path\n",
    "        headers = {\n",
    "            'X-CSRFTOKEN': self._session.cookies['ccsrftoken'][1:-1],\n",
    "        }\n",
    "        response = self._session.post(\n",
    "            url=url,\n",
    "            headers=headers,\n",
    "            data=data,\n",
    "            json=json,\n",
    "            timeout=self.timeout,\n",
    "        )\n",
    "        return response\n",
    "\n",
    "    def put(self, path, data={}, json=''):\n",
    "        url = self.url_root + path\n",
    "        headers = {\n",
    "            'X-CSRFTOKEN': self._session.cookies['ccsrftoken'][1:-1],\n",
    "        }\n",
    "        response = self._session.put(\n",
    "            url=url,\n",
    "            headers=headers,\n",
    "            data=data,\n",
    "            json=json,\n",
    "            timeout=self.timeout,\n",
    "        )\n",
    "        return response\n",
    "\n",
    "    def delete(self, path):\n",
    "        url = self.url_root + path\n",
    "        headers = {\n",
    "            'X-CSRFTOKEN': self._session.cookies['ccsrftoken'][1:-1],\n",
    "        }\n",
    "        response = self._session.delete(\n",
    "            url=url,\n",
    "            headers=headers,\n",
    "            timeout=self.timeout,\n",
    "        )\n",
    "        return response\n",
    "\n",
    "    def logout(self, path='/logout'):\n",
    "        url = self.url_root + path\n",
    "        response = self._session.post(\n",
    "            url=url,\n",
    "            timeout=self._timeout\n",
    "        )\n",
    "        return response\n",
    "\n",
    "    def close(self):\n",
    "        self.logout()\n",
    "        self._session.close()"
   ]
  },
  {
   "cell_type": "code",
   "execution_count": null,
   "metadata": {},
   "outputs": [],
   "source": [
    "# Usage"
   ]
  },
  {
   "cell_type": "code",
   "execution_count": null,
   "metadata": {},
   "outputs": [],
   "source": [
    "CREDENTIALS = {\n",
    "    'host': '150.117.123.248',\n",
    "    'users': {\n",
    "        'admin': {\n",
    "            'username': 'api_admin',\n",
    "            'password': ''\n",
    "        }\n",
    "    }\n",
    "}"
   ]
  },
  {
   "cell_type": "code",
   "execution_count": null,
   "metadata": {},
   "outputs": [],
   "source": [
    "# Login - Admin\n",
    "client = FortiAPIClient('150.117.123.248')\n",
    "r = client.login(\n",
    "    username=CREDENTIALS['users']['admin']['username'],\n",
    "    password=CREDENTIALS['users']['admin']['password']\n",
    ")"
   ]
  },
  {
   "cell_type": "code",
   "execution_count": null,
   "metadata": {},
   "outputs": [],
   "source": [
    "# Login check\n",
    "status_code = r.text[:1]\n",
    "descriptions = {\n",
    "    '0': 'Log in failure. Most likely an incorrect username/password combo.',\n",
    "    '1': 'Successful log in',\n",
    "    '2': 'Admin is now locked out',\n",
    "    '3': 'Two-factor Authentication is needed',\n",
    "}\n",
    "msg = descriptions.get(status_code, 'Unknown error. Can you log in manually?')\n",
    "is_logged_in = (status_code == '1')\n",
    "if not is_logged_in:\n",
    "    raise ValueError(msg)"
   ]
  },
  {
   "cell_type": "code",
   "execution_count": null,
   "metadata": {
    "scrolled": true
   },
   "outputs": [],
   "source": [
    "# Get\n",
    "response = client.get(\n",
    "    path='/api/v2/cmdb/firewall/address',\n",
    "    params={'format': 'name|subnet'}\n",
    ")\n",
    "print(response.text)"
   ]
  },
  {
   "cell_type": "code",
   "execution_count": null,
   "metadata": {},
   "outputs": [],
   "source": [
    "# Get - with filter\n",
    "response = client.get(\n",
    "    path='/api/v2/cmdb/firewall/address',\n",
    "    params={\n",
    "        'format': 'name|comment',\n",
    "        'filter': r'comment=@\\\"created_by\\\": \\\"j3y\\\"',\n",
    "    }\n",
    ")\n",
    "print(response.text)"
   ]
  },
  {
   "cell_type": "code",
   "execution_count": null,
   "metadata": {
    "scrolled": true
   },
   "outputs": [],
   "source": [
    "# Read & write\n",
    "data = response.json()\n",
    "# Do something with data\n",
    "# ....\n",
    "# ...."
   ]
  },
  {
   "cell_type": "code",
   "execution_count": null,
   "metadata": {},
   "outputs": [],
   "source": [
    "# Post\n",
    "response = client.post(\n",
    "    path='/api/v2/cmdb/firewall/address',\n",
    "    json={\n",
    "        'name': 'address 10.210.201.168/32',\n",
    "        'type': 'ipmask',\n",
    "        'subnet': '10.210.201.168 255.255.255.255',\n",
    "    }\n",
    ")\n",
    "print(response.text)"
   ]
  },
  {
   "cell_type": "code",
   "execution_count": null,
   "metadata": {
    "scrolled": true
   },
   "outputs": [],
   "source": [
    "# Put\n",
    "response = client.put(\n",
    "    path='/api/v2/cmdb/firewall/address' + '/' + quote('address 10.210.201.168/32', safe=''),\n",
    "    json={\n",
    "        'name': 'address__10.210.201.168/32',\n",
    "    }\n",
    ")\n",
    "print(response.json())"
   ]
  },
  {
   "cell_type": "code",
   "execution_count": null,
   "metadata": {},
   "outputs": [],
   "source": [
    "# Delete\n",
    "response = client.delete(\n",
    "    path='/api/v2/cmdb/firewall/address' + '/' + quote('address__10.210.201.168/32', safe=''),\n",
    ")\n",
    "print(response.text)"
   ]
  },
  {
   "cell_type": "code",
   "execution_count": null,
   "metadata": {},
   "outputs": [],
   "source": []
  }
 ],
 "metadata": {
  "kernelspec": {
   "display_name": "Python 3",
   "language": "python",
   "name": "python3"
  },
  "language_info": {
   "codemirror_mode": {
    "name": "ipython",
    "version": 3
   },
   "file_extension": ".py",
   "mimetype": "text/x-python",
   "name": "python",
   "nbconvert_exporter": "python",
   "pygments_lexer": "ipython3",
   "version": "3.8.2"
  }
 },
 "nbformat": 4,
 "nbformat_minor": 4
}
