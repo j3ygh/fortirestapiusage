{
 "cells": [
  {
   "cell_type": "code",
   "execution_count": null,
   "metadata": {},
   "outputs": [],
   "source": [
    "import requests\n",
    "import urllib\n",
    "import json\n",
    "from urllib.parse import urlencode, quote"
   ]
  },
  {
   "cell_type": "code",
   "execution_count": null,
   "metadata": {},
   "outputs": [],
   "source": [
    "# Login\n",
    "session = requests.session()\n",
    "url = 'http://150.117.123.248/logincheck'\n",
    "username = 'admin'\n",
    "password = '4fcb3244-e5d2-449c-a49d-7b6fa32bfa7f'\n",
    "data = {\n",
    "    'username': username,\n",
    "    'secretkey': password,\n",
    "    'ajax': 1,\n",
    "}\n",
    "response = session.post(url=url, data=urlencode(data))\n",
    "print(response.status_code)"
   ]
  },
  {
   "cell_type": "code",
   "execution_count": null,
   "metadata": {
    "scrolled": false
   },
   "outputs": [],
   "source": [
    "# # Request - get - with token (to be fixed)\n",
    "# # https://<YOUR-FORTGATE-ADDRESS>/api/v2/cmdb/firewall/address/?access_token=<YOUR-API-TOKEN>\n",
    "# session = requests.session()\n",
    "# access_token = 'qbwt3khnG56sxhQ8xQ0fdHxtpQc0bw'\n",
    "# # To ensure maximum security when using API tokens, HTTPS is enforced (HTTP cannot be used).\n",
    "# url = f'https://150.117.123.248/api/v2/cmdb/firewall/address/?access_token={access_token}'\n",
    "# response = session.get(url=url)\n",
    "# print(response.text)"
   ]
  },
  {
   "cell_type": "code",
   "execution_count": null,
   "metadata": {
    "scrolled": true
   },
   "outputs": [],
   "source": [
    "# Request - get (action=default)\n",
    "url = 'http://10.210.201.5/api/v2/cmdb/firewall/address?action=default'\n",
    "response = session.get(url=url)\n",
    "print(response.text)"
   ]
  },
  {
   "cell_type": "code",
   "execution_count": null,
   "metadata": {},
   "outputs": [],
   "source": [
    "# When params of get is complex, syntax like this may help.\n",
    "# Request - get (format=name|subnet)\n",
    "url = 'http://150.117.123.248/api/v2/cmdb/firewall/address'\n",
    "params = {\n",
    "    'format': 'name|subnet'\n",
    "}\n",
    "response = session.get(url=url, params=params)\n",
    "print(response.text)"
   ]
  },
  {
   "cell_type": "code",
   "execution_count": null,
   "metadata": {
    "scrolled": true
   },
   "outputs": [],
   "source": [
    "# Request - get (filter=name|subnet)\n",
    "url = 'http://150.117.123.248/api/v2/cmdb/firewall/address'\n",
    "params = {\n",
    "    'filter': 'name=@_address__',\n",
    "    'format': 'name|comment',\n",
    "}\n",
    "response = session.get(url=url, params=params)\n",
    "print(response.text)"
   ]
  },
  {
   "cell_type": "code",
   "execution_count": null,
   "metadata": {},
   "outputs": [],
   "source": [
    "# Cast data as a dict to read/use it.\n",
    "data = json.loads(response.text)"
   ]
  },
  {
   "cell_type": "code",
   "execution_count": null,
   "metadata": {
    "scrolled": true
   },
   "outputs": [],
   "source": [
    "# Request - post\n",
    "url = 'http://10.210.201.5/api/v2/cmdb/firewall/address'\n",
    "data = {\n",
    "    'name': 'address jimmy lin 10.210.201.168/32',\n",
    "    'type': 'ipmask',\n",
    "    'subnet': '10.210.201.168 255.255.255.255',\n",
    "}\n",
    "headers = {\n",
    "    'X-CSRFTOKEN': session.cookies['ccsrftoken'][1:-1]\n",
    "}\n",
    "response = session.post(url=url, data=json.dumps(data), headers=headers)\n",
    "print(response.text)"
   ]
  },
  {
   "cell_type": "code",
   "execution_count": null,
   "metadata": {},
   "outputs": [],
   "source": [
    "# Request - put\n",
    "mkey = 'address jimmy lin 10.210.201.168/32'\n",
    "url = 'http://10.210.201.5/api/v2/cmdb/firewall/address/' + quote(mkey, safe='')\n",
    "data = {\n",
    "    'name': 'address__jimmy_lin__10.210.201.168/32',\n",
    "    'type': 'ipmask',\n",
    "    'subnet': '10.210.201.168 255.255.255.255',\n",
    "}\n",
    "headers = {\n",
    "    'X-CSRFTOKEN': session.cookies['ccsrftoken'][1:-1]\n",
    "}\n",
    "response = session.put(url=url, data=json.dumps(data), headers=headers)\n",
    "print(response.text)"
   ]
  },
  {
   "cell_type": "code",
   "execution_count": null,
   "metadata": {
    "scrolled": true
   },
   "outputs": [],
   "source": [
    "# Request - delete\n",
    "mkey = 'address jimmy lin 10.210.201.168/32'\n",
    "url = 'http://10.210.201.5/api/v2/cmdb/firewall/address/' + quote(mkey, safe='')\n",
    "headers = {\n",
    "    'X-CSRFTOKEN': session.cookies['ccsrftoken'][1:-1]\n",
    "}\n",
    "response = session.delete(url=url, headers=headers)\n",
    "print(response.text)"
   ]
  },
  {
   "cell_type": "code",
   "execution_count": null,
   "metadata": {},
   "outputs": [],
   "source": [
    "# Logout\n",
    "url = 'http://10.210.201.5/logout'\n",
    "session.post(url=url)"
   ]
  },
  {
   "cell_type": "code",
   "execution_count": null,
   "metadata": {},
   "outputs": [],
   "source": []
  }
 ],
 "metadata": {
  "kernelspec": {
   "display_name": "Python 3",
   "language": "python",
   "name": "python3"
  },
  "language_info": {
   "codemirror_mode": {
    "name": "ipython",
    "version": 3
   },
   "file_extension": ".py",
   "mimetype": "text/x-python",
   "name": "python",
   "nbconvert_exporter": "python",
   "pygments_lexer": "ipython3",
   "version": "3.8.2"
  }
 },
 "nbformat": 4,
 "nbformat_minor": 4
}
