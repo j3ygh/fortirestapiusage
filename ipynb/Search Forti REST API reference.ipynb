{
 "cells": [
  {
   "cell_type": "code",
   "execution_count": null,
   "metadata": {},
   "outputs": [],
   "source": [
    "import requests"
   ]
  },
  {
   "cell_type": "code",
   "execution_count": null,
   "metadata": {},
   "outputs": [],
   "source": [
    "def google(keyword, url='https://www.google.com/search'):\n",
    "    q = keyword\n",
    "    params = {\n",
    "        'q': q\n",
    "    }\n",
    "    r = requests.get(url=url, params=params)\n",
    "    return r"
   ]
  },
  {
   "cell_type": "code",
   "execution_count": null,
   "metadata": {},
   "outputs": [],
   "source": [
    "def google_and_return_length(keyword):\n",
    "    r = google(keyword)\n",
    "    return len(r.text)"
   ]
  },
  {
   "cell_type": "code",
   "execution_count": null,
   "metadata": {
    "scrolled": true
   },
   "outputs": [],
   "source": [
    "results = []\n",
    "for fortios_version in range(500, 700):\n",
    "    forti_rest_api_reference = f'FOS_JSON_REST_API_{fortios_version}.pdf'\n",
    "    length = google_and_return_length(forti_rest_api_reference)\n",
    "    loading_text = f'{(fortios_version - 500 + 1)}/{len(range(500, 700))}'\n",
    "    print(loading_text, end='\\r')\n",
    "    results.append({'fortios_version': fortios_version, 'length': length})"
   ]
  },
  {
   "cell_type": "code",
   "execution_count": null,
   "metadata": {},
   "outputs": [],
   "source": []
  }
 ],
 "metadata": {
  "kernelspec": {
   "display_name": "Python 3",
   "language": "python",
   "name": "python3"
  },
  "language_info": {
   "codemirror_mode": {
    "name": "ipython",
    "version": 3
   },
   "file_extension": ".py",
   "mimetype": "text/x-python",
   "name": "python",
   "nbconvert_exporter": "python",
   "pygments_lexer": "ipython3",
   "version": "3.8.2"
  }
 },
 "nbformat": 4,
 "nbformat_minor": 4
}
