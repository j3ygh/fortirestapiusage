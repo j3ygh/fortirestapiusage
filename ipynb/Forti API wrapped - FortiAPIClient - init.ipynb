{
 "cells": [
  {
   "cell_type": "code",
   "execution_count": null,
   "metadata": {},
   "outputs": [],
   "source": [
    "import json\n",
    "import requests\n",
    "from urllib.parse import urlencode, quote"
   ]
  },
  {
   "cell_type": "code",
   "execution_count": null,
   "metadata": {},
   "outputs": [],
   "source": [
    "class FortiAPIClient():\n",
    "    \n",
    "    def __init__(self, host, session=None, is_https=True, timeout=30):\n",
    "        self._host = host\n",
    "        self._session = session or requests.session()\n",
    "        self._is_https = is_https\n",
    "        self.timeout = timeout\n",
    "\n",
    "    @property\n",
    "    def host(self):\n",
    "        return self._host\n",
    "        \n",
    "    @property\n",
    "    def session(self):\n",
    "        return self._session\n",
    "        \n",
    "    @property\n",
    "    def is_https(self):\n",
    "        return self._is_https\n",
    "        \n",
    "    @property\n",
    "    def url_root(self):\n",
    "        url_root = f'https://{self._host}' if self._is_https else f'http://{self._host}'\n",
    "        return url_root\n",
    "        \n",
    "    def login(self, username, password, path='/logincheck'):\n",
    "        url = self.url_root + path\n",
    "        data = {\n",
    "            'username': username,\n",
    "            'secretkey': password,\n",
    "        }\n",
    "        encoded_data = urlencode(data)\n",
    "        response = self._session.post(url=url, data=encoded_data)\n",
    "        return response\n",
    "    \n",
    "    def logout(self, path='/logout'):\n",
    "        url = self.url_root + path\n",
    "        response = self._session.post(url=url)\n",
    "        return response\n",
    "    \n",
    "    def get(self, path, params={}):\n",
    "        url = self.url_root + path\n",
    "        response = self._session.get(\n",
    "            url=url,\n",
    "            params=params,\n",
    "            timeout=self.timeout,\n",
    "        )\n",
    "        return response\n",
    "    \n",
    "    def post(self, path, data={}, json=''):\n",
    "        url = self.url_root + path\n",
    "        headers = {\n",
    "            'X-CSRFTOKEN': self._session.cookies['ccsrftoken'][1:-1],\n",
    "        }\n",
    "        response = self._session.post(\n",
    "            url=url,\n",
    "            headers=headers,\n",
    "            data=data,\n",
    "            json=json,\n",
    "            timeout=self.timeout,\n",
    "        )\n",
    "        return response\n",
    "    \n",
    "    def put(self, path, data={}, json=''):\n",
    "        url = self.url_root + path\n",
    "        headers = {\n",
    "            'X-CSRFTOKEN': self._session.cookies['ccsrftoken'][1:-1],\n",
    "        }\n",
    "        response = self._session.put(\n",
    "            url=url,\n",
    "            headers=headers,\n",
    "            data=data,\n",
    "            json=json,\n",
    "            timeout=self.timeout,\n",
    "        )\n",
    "        return response\n",
    "    \n",
    "    def delete(self, path):\n",
    "        url = self.url_root + path\n",
    "        headers = {\n",
    "            'X-CSRFTOKEN': self._session.cookies['ccsrftoken'][1:-1],\n",
    "        }\n",
    "        response = self._session.delete(\n",
    "            url=url,\n",
    "            headers=headers,\n",
    "            timeout=self.timeout,\n",
    "        )\n",
    "        return response\n",
    "    \n",
    "    def put_apikey(self, apikey):\n",
    "        headers = {\n",
    "            'Authorization': f'Bearer {apikey}',\n",
    "        }\n",
    "        self._session.headers.update(headers)"
   ]
  },
  {
   "cell_type": "code",
   "execution_count": null,
   "metadata": {},
   "outputs": [],
   "source": [
    "# Usage"
   ]
  },
  {
   "cell_type": "code",
   "execution_count": null,
   "metadata": {},
   "outputs": [],
   "source": [
    "# Generate a client\n",
    "client = FortiAPIClient('150.117.123.248', is_https=False, timeout=30)"
   ]
  },
  {
   "cell_type": "code",
   "execution_count": null,
   "metadata": {},
   "outputs": [],
   "source": [
    "# Login\n",
    "client.login(username='admin', password='4fcb3244-e5d2-449c-a49d-7b6fa32bfa7f')"
   ]
  },
  {
   "cell_type": "code",
   "execution_count": null,
   "metadata": {},
   "outputs": [],
   "source": [
    "# API key login\n",
    "client.put_apikey(apikey='nm7HNqg5tkxqtwG474bnzmtsG8g1zf')"
   ]
  },
  {
   "cell_type": "code",
   "execution_count": null,
   "metadata": {
    "scrolled": true
   },
   "outputs": [],
   "source": [
    "# Get\n",
    "response = client.get(\n",
    "    path='/api/v2/cmdb/firewall/address',\n",
    "    params={'format': 'name|subnet'}\n",
    ")\n",
    "print(response.text)"
   ]
  },
  {
   "cell_type": "code",
   "execution_count": null,
   "metadata": {
    "scrolled": true
   },
   "outputs": [],
   "source": [
    "# Read & write\n",
    "response.json()"
   ]
  },
  {
   "cell_type": "code",
   "execution_count": null,
   "metadata": {},
   "outputs": [],
   "source": [
    "# Post\n",
    "response = client.post(\n",
    "    path='/api/v2/cmdb/firewall/address',\n",
    "    json={\n",
    "        'name': 'address 10.210.201.168/32',\n",
    "        'type': 'ipmask',\n",
    "        'subnet': '10.210.201.168 255.255.255.255',\n",
    "    }\n",
    ")\n",
    "print(response.text)"
   ]
  },
  {
   "cell_type": "code",
   "execution_count": null,
   "metadata": {
    "scrolled": true
   },
   "outputs": [],
   "source": [
    "# Put\n",
    "response = client.put(\n",
    "    path='/api/v2/cmdb/firewall/address' + '/' + quote('address 10.210.201.168/32', safe=''),\n",
    "    json={\n",
    "        'name': 'address__10.210.201.168/32',\n",
    "    }\n",
    ")\n",
    "print(response.json())"
   ]
  },
  {
   "cell_type": "code",
   "execution_count": null,
   "metadata": {},
   "outputs": [],
   "source": [
    "# Delete\n",
    "response = client.delete(\n",
    "    path='/api/v2/cmdb/firewall/address' + '/' + quote('address__10.210.201.168/32', safe=''),\n",
    ")\n",
    "print(response.text)"
   ]
  },
  {
   "cell_type": "code",
   "execution_count": null,
   "metadata": {},
   "outputs": [],
   "source": []
  }
 ],
 "metadata": {
  "kernelspec": {
   "display_name": "Python 3",
   "language": "python",
   "name": "python3"
  },
  "language_info": {
   "codemirror_mode": {
    "name": "ipython",
    "version": 3
   },
   "file_extension": ".py",
   "mimetype": "text/x-python",
   "name": "python",
   "nbconvert_exporter": "python",
   "pygments_lexer": "ipython3",
   "version": "3.8.2"
  }
 },
 "nbformat": 4,
 "nbformat_minor": 4
}
