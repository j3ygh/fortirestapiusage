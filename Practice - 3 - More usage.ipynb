{
 "cells": [
  {
   "cell_type": "code",
   "execution_count": null,
   "metadata": {},
   "outputs": [],
   "source": [
    "import requests\n",
    "import urllib\n",
    "import json"
   ]
  },
  {
   "cell_type": "code",
   "execution_count": null,
   "metadata": {},
   "outputs": [],
   "source": [
    "# Generate a session\n",
    "session = requests.session()"
   ]
  },
  {
   "cell_type": "code",
   "execution_count": null,
   "metadata": {},
   "outputs": [],
   "source": [
    "# Login\n",
    "url = 'http://10.210.201.5/logincheck'\n",
    "username = 'admin'\n",
    "password = 'forti666'\n",
    "data = f'username={urllib.parse.quote(username)}&secretkey={urllib.parse.quote(password)}'\n",
    "session.post(url=url, data=data)"
   ]
  },
  {
   "cell_type": "code",
   "execution_count": null,
   "metadata": {},
   "outputs": [],
   "source": [
    "# Login with token\n",
    "# https://kb.fortinet.com/kb/documentLink.do?externalID=FD45595\n",
    "# https://github.com/fortinet-solutions-cse/fortiosapi/blob/f3ac6561de5588c600a7ade8ff6c742c81b8dfcf/fortiosapi/fortiosapi.py#L231"
   ]
  },
  {
   "cell_type": "code",
   "execution_count": null,
   "metadata": {
    "scrolled": true
   },
   "outputs": [],
   "source": [
    "# Request - get\n",
    "url = 'http://10.210.201.5/api/v2/cmdb/firewall/address'\n",
    "response = session.get(url=url)\n",
    "print(response.text)"
   ]
  },
  {
   "cell_type": "code",
   "execution_count": null,
   "metadata": {
    "scrolled": true
   },
   "outputs": [],
   "source": [
    "# Request - get with filtered field\n",
    "url = 'http://10.210.201.5/api/v2/cmdb/firewall/address?format=name|subnet'\n",
    "response = session.get(url=url)\n",
    "print(response.text)"
   ]
  },
  {
   "cell_type": "code",
   "execution_count": null,
   "metadata": {
    "scrolled": true
   },
   "outputs": [],
   "source": [
    "# Request - get - action=default\n",
    "url = 'http://10.210.201.5/api/v2/cmdb/firewall/address?action=default'\n",
    "response = session.get(url=url)\n",
    "print(response.text)"
   ]
  },
  {
   "cell_type": "code",
   "execution_count": null,
   "metadata": {},
   "outputs": [],
   "source": [
    "# Request - get - action=schema\n",
    "url = 'http://10.210.201.5/api/v2/cmdb/firewall/address?action=schema'\n",
    "response = session.get(url=url)\n",
    "print(response.text)"
   ]
  },
  {
   "cell_type": "code",
   "execution_count": null,
   "metadata": {},
   "outputs": [],
   "source": [
    "# Cast data as a dict to read/use it.\n",
    "data = json.loads(response.text)"
   ]
  },
  {
   "cell_type": "code",
   "execution_count": null,
   "metadata": {},
   "outputs": [],
   "source": [
    "# Logout\n",
    "url = 'http://10.210.201.5/logout'\n",
    "session.post(url=url)"
   ]
  }
 ],
 "metadata": {
  "kernelspec": {
   "display_name": "Python 3",
   "language": "python",
   "name": "python3"
  },
  "language_info": {
   "codemirror_mode": {
    "name": "ipython",
    "version": 3
   },
   "file_extension": ".py",
   "mimetype": "text/x-python",
   "name": "python",
   "nbconvert_exporter": "python",
   "pygments_lexer": "ipython3",
   "version": "3.8.2"
  }
 },
 "nbformat": 4,
 "nbformat_minor": 4
}
